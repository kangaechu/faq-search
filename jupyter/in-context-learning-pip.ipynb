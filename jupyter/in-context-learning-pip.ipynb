{
 "cells": [
  {
   "cell_type": "code",
   "execution_count": null,
   "metadata": {
    "collapsed": true
   },
   "outputs": [],
   "source": [
    "# 必要なライブラリをインストール\n",
    "!pip install -U langchain\n",
    "!pip install -U openai\n",
    "!pip install -U llama-index\n",
    "!pip install -U faiss-cpu\n"
   ]
  },
  {
   "cell_type": "code",
   "execution_count": null,
   "metadata": {},
   "outputs": [],
   "source": [
    "# OpenAI APIキーの読み込み\n",
    "import os\n",
    "os.environ[\"OPENAI_API_KEY\"] = \"sk-**********************************************\""
   ]
  },
  {
   "cell_type": "code",
   "execution_count": null,
   "metadata": {},
   "outputs": [],
   "source": [
    "# ログレベルの設定\n",
    "# デバッグログが不要なら実行しなくて良い\n",
    "import logging\n",
    "import sys\n",
    "logging.basicConfig(stream=sys.stdout, level=logging.INFO, force=True)"
   ]
  },
  {
   "cell_type": "markdown",
   "metadata": {},
   "source": []
  },
  {
   "cell_type": "code",
   "execution_count": null,
   "metadata": {},
   "outputs": [],
   "source": [
    "# インデックスの作成\n",
    "from llama_index import ServiceContext, GPTVectorStoreIndex, LLMPredictor, StorageContext, load_index_from_storage, JSONReader\n",
    "from langchain.chat_models import ChatOpenAI\n",
    "\n",
    "#data dirからテキストファイルの情報を取得\n",
    "documents = JSONReader().load_data(\"../data/data_pip/data.json\")\n",
    "# gpt-3.5-turbo を指定（現状デフォルトは davinci ）\n",
    "service_context = ServiceContext.from_defaults(\n",
    "  llm_predictor=LLMPredictor(llm=ChatOpenAI(model_name=\"gpt-3.5-turbo\")))\n",
    "# documents をもとに Embeddings API を通信してベクター取得し GPTVectorStoreIndex を生成\n",
    "index = GPTVectorStoreIndex.from_documents(documents, service_context=service_context)\n",
    "# save to disk\n",
    "index_dir = 'index_pip'\n",
    "index.storage_context.persist(index_dir)"
   ]
  },
  {
   "cell_type": "code",
   "execution_count": null,
   "metadata": {},
   "outputs": [],
   "source": [
    "# インデックスをファイルから読み込む\n",
    "storage_context = StorageContext.from_defaults(persist_dir=index_dir)\n",
    "index = load_index_from_storage(storage_context)"
   ]
  },
  {
   "cell_type": "code",
   "execution_count": null,
   "outputs": [],
   "source": [
    "# テンプレートの作成\n",
    "from llama_index.prompts.prompts import QuestionAnswerPrompt\n",
    "QA_PROMPT_TMPL = (\n",
    "    \"私たちは以下の情報をコンテキスト情報として与えます。 \\n\"\n",
    "    \"---------------------\\n\"\n",
    "    \"{context_str}\"\n",
    "    \"\\n---------------------\\n\"\n",
    "    \"質問に対する回答を日本語で最大3件返してください。質問は {query_str} です。\\n\"\n",
    "    \"なお、それぞれの回答ごとに以下のフォーマットを使用すること。\\n\"\n",
    "    \"---------------------\\n\"\n",
    "    \" - タイトル\\n\"\n",
    "    \" - 回答\\n\"\n",
    "    \" - スライドのURL\\n\"\n",
    "    \"---------------------\\n\"\n",
    " )\n",
    "qa_prompt = QuestionAnswerPrompt(QA_PROMPT_TMPL)"
   ],
   "metadata": {
    "collapsed": false
   }
  },
  {
   "cell_type": "code",
   "execution_count": null,
   "metadata": {},
   "outputs": [],
   "source": [
    "# プロンプト\n",
    "question = \"\"\n",
    "# ベクター検索 + Chat Completion API 実行\n",
    "query_engine = index.as_query_engine(\n",
    "  text_qa_template=qa_prompt\n",
    ")\n",
    "response=query_engine.query(question)\n",
    "print(response)\n"
   ]
  }
 ],
 "metadata": {
  "kernelspec": {
   "display_name": "Python 3 (ipykernel)",
   "language": "python",
   "name": "python3"
  },
  "language_info": {
   "codemirror_mode": {
    "name": "ipython",
    "version": 3
   },
   "file_extension": ".py",
   "mimetype": "text/x-python",
   "name": "python",
   "nbconvert_exporter": "python",
   "pygments_lexer": "ipython3",
   "version": "3.9.6"
  }
 },
 "nbformat": 4,
 "nbformat_minor": 1
}
