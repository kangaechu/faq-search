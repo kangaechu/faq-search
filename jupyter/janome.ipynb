{
 "cells": [
  {
   "cell_type": "code",
   "execution_count": null,
   "metadata": {
    "collapsed": true
   },
   "outputs": [],
   "source": [
    "# 必要なライブラリをインストール\n",
    "!pip install -U janome\n",
    "!pip install pandas\n",
    "import pandas as pd\n",
    "from janome.tokenizer import Tokenizer\n",
    "t = Tokenizer()"
   ]
  },
  {
   "cell_type": "code",
   "execution_count": null,
   "outputs": [],
   "source": [
    "with open(\"./jupyter/account_lock.txt\") as f:\n",
    "  for question in f:\n",
    "    tokens = t.tokenize(question)\n",
    "    for i, token in enumerate(tokens):\n",
    "      # part of speech: 品詞\n",
    "      pos = token.part_of_speech.split(',')[0]\n",
    "      if pos in ['名詞', '動詞']:\n",
    "        print(token.surface)\n",
    "    break\n"
   ],
   "metadata": {
    "collapsed": false
   }
  }
 ],
 "metadata": {
  "kernelspec": {
   "display_name": "Python 3 (ipykernel)",
   "language": "python",
   "name": "python3"
  },
  "language_info": {
   "codemirror_mode": {
    "name": "ipython",
    "version": 3
   },
   "file_extension": ".py",
   "mimetype": "text/x-python",
   "name": "python",
   "nbconvert_exporter": "python",
   "pygments_lexer": "ipython3",
   "version": "3.9.6"
  }
 },
 "nbformat": 4,
 "nbformat_minor": 1
}
