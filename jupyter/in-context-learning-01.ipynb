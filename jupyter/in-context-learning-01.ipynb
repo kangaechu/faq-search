{
 "cells": [
  {
   "cell_type": "code",
   "execution_count": null,
   "metadata": {
    "collapsed": true
   },
   "outputs": [],
   "source": [
    "# 必要なライブラリをインストール\n",
    "!pip install -U langchain\n",
    "!pip install -U openai\n",
    "!pip install -U llama-index\n",
    "!pip install -U faiss-cpu\n"
   ]
  },
  {
   "cell_type": "code",
   "execution_count": null,
   "metadata": {},
   "outputs": [],
   "source": [
    "# OpenAI APIキーの読み込み\n",
    "import os\n",
    "os.environ[\"OPENAI_API_KEY\"] = \"\""
   ]
  },
  {
   "cell_type": "code",
   "execution_count": null,
   "metadata": {},
   "outputs": [],
   "source": [
    "# ログレベルの設定\n",
    "# デバッグログが不要なら実行しなくて良い\n",
    "import logging\n",
    "import sys\n",
    "logging.basicConfig(stream=sys.stdout, level=logging.INFO, force=True)"
   ]
  },
  {
   "cell_type": "markdown",
   "metadata": {},
   "source": []
  },
  {
   "cell_type": "code",
   "execution_count": null,
   "metadata": {},
   "outputs": [],
   "source": [
    "# インデックスの作成\n",
    "from llama_index import SimpleDirectoryReader, ServiceContext, GPTSimpleVectorIndex, LLMPredictor\n",
    "from langchain.chat_models import ChatOpenAI\n",
    "\n",
    "#data dirからテキストファイルの情報を取得\n",
    "documents = SimpleDirectoryReader('data/split').load_data()\n",
    "# gpt-3.5-turbo を指定（現状デフォルトは davinci ）\n",
    "service_context = ServiceContext.from_defaults(\n",
    "  llm_predictor=LLMPredictor(llm=ChatOpenAI(model_name=\"gpt-3.5-turbo\")))\n",
    "# documents をもとに Embeddings API を通信してベクター取得し GPTSimpleVectorIndex を生成\n",
    "index = GPTSimpleVectorIndex.from_documents(documents, service_context=service_context)\n",
    "# save to disk\n",
    "index_json = 'index_faq.json'\n",
    "index.save_to_disk(index_json)"
   ]
  },
  {
   "cell_type": "code",
   "execution_count": null,
   "metadata": {},
   "outputs": [],
   "source": [
    "# インデックスをファイルから読み込む\n",
    "index = GPTSimpleVectorIndex.load_from_disk(index_json)"
   ]
  },
  {
   "cell_type": "code",
   "execution_count": null,
   "metadata": {},
   "outputs": [],
   "source": [
    "# テンプレートの作成\n",
    "from llama_index.prompts.prompts import RefinePrompt, QuestionAnswerPrompt\n",
    "QA_PROMPT_TMPL = (\n",
    "    \"私たちは以下の情報をコンテキスト情報として与えます。 \\n\"\n",
    "    \"---------------------\\n\"\n",
    "    \"{context_str}\"\n",
    "    \"\\n---------------------\\n\"\n",
    "    \"あなたはAIとして、この情報をもとに質問を日本語で答えます。回答にはURLを含めてください。前回と同じ回答の場合は同じ回答を行います。: {query_str}\\n\"\n",
    ")\n",
    "qa_prompt = QuestionAnswerPrompt(QA_PROMPT_TMPL)\n",
    "REFINE_PROMPT = (\"元の質問は次のとおりです: {query_str} \\n\"\n",
    "    \"既存の回答を提供しました: {existing_answer} \\n\"\n",
    "    \"既存の答えを洗練する機会があります \\n\"\n",
    "    \"(必要な場合のみ)以下にコンテキストを追加します。 \\n\"\n",
    "    \"------------\\n\"\n",
    "    \"{context_msg}\\n\"\n",
    "    \"------------\\n\"\n",
    "    \"新しいコンテキストを考慮して、元の答えをより良く洗練して質問に答えてください。\\n\"\n",
    "    \"コンテキストが役に立たない場合は、元の回答と同じものを返します。回答にはURLを含めてください。\")\n",
    "refine_prompt = RefinePrompt(REFINE_PROMPT)\n"
   ]
  },
  {
   "cell_type": "code",
   "execution_count": null,
   "metadata": {},
   "outputs": [],
   "source": [
    "# プロンプト\n",
    "qry = \"クライアントがLineでやりとりしたいと言ってくる\"\n",
    "# ベクター検索 + Chat Completion API 実行\n",
    "response=index.query(qry,\n",
    "                     text_qa_template=qa_prompt,\n",
    "                     refine_template=refine_prompt,\n",
    "                     )\n",
    "print(response)\n"
   ]
  }
 ],
 "metadata": {
  "kernelspec": {
   "display_name": "Python 3 (ipykernel)",
   "language": "python",
   "name": "python3"
  },
  "language_info": {
   "codemirror_mode": {
    "name": "ipython",
    "version": 3
   },
   "file_extension": ".py",
   "mimetype": "text/x-python",
   "name": "python",
   "nbconvert_exporter": "python",
   "pygments_lexer": "ipython3",
   "version": "3.9.6"
  }
 },
 "nbformat": 4,
 "nbformat_minor": 1
}
